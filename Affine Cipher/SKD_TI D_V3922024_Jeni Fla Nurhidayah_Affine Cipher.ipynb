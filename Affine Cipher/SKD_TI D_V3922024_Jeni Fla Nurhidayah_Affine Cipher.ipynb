{
 "cells": [
  {
   "cell_type": "code",
   "execution_count": 2,
   "id": "0db12721-f891-4b00-b446-b443c25e4bec",
   "metadata": {},
   "outputs": [
    {
     "name": "stdout",
     "output_type": "stream",
     "text": [
      "Plaintext: Jeni Fla Nurhidayah\n",
      "Ciphertext: Ituf Woh Upgcfqhbhc\n",
      "Decrypted Text: Jeni Fla Nurhidayah\n"
     ]
    }
   ],
   "source": [
    "# Fungsi enkripsi menggunakan affine cipher\n",
    "def enkripsi(text, key):\n",
    "    result = \"\" # Variabel untuk menyimpan hasil enkripsi\n",
    "    for char in text:   # Melakukan iterasi karakter per karakter dalam plaintext\n",
    "        if char.isalpha(): # Memeriksa apakah karakter adalah huruf\n",
    "            if char.islower():# Memeriksa apakah karakter adalah huruf kecil\n",
    "                # Rumus affine cipher untuk mengenkripsi huruf kecil\n",
    "                result += chr(((ord(char) - ord('a')) * key[0] + key[1]) % 26 + ord('a'))\n",
    "            else:\n",
    "                 # Rumus affine cipher untuk mengenkripsi huruf besar\n",
    "                result += chr(((ord(char) - ord('A')) * key[0] + key[1]) % 26 + ord('A'))\n",
    "        else: # Jika karakter bukan huruf maka akan menghasilakan hasil sama dengan palintext\n",
    "            result += char\n",
    "    return result\n",
    "\n",
    "# Fungsi dekripsi menggunakan affine cipher \n",
    "def dekripsi(ciphertext, key):\n",
    "    result = \"\" # Variabel untuk menyimpan teks hasil dekripsi\n",
    "    # Mencari invers modulo dari key[0] (modulo 26)\n",
    "    for i in range(26):\n",
    "        if (key[0] * i) % 26 == 1:\n",
    "            inverse = i\n",
    "            break\n",
    "    for char in ciphertext:  # Iterasi karakter per karakter dalam ciphertext\n",
    "        if char.isalpha(): # Memeriksa apakah karakter adalah huruf\n",
    "            if char.islower(): # Memeriksa apakah karakter adalah huruf kecil\n",
    "                # Rumus affine cipher untuk mendekripsi huruf kecil\n",
    "                result += chr(((ord(char) - ord('a') - key[1]) * inverse) % 26 + ord('a'))\n",
    "            else:\n",
    "                 # Rumus affine cipher untuk mendekripsi huruf besar\n",
    "                result += chr(((ord(char) - ord('A') - key[1]) * inverse) % 26 + ord('A'))\n",
    "        else: # Jika karakter bukan huruf maka akan menghasilakan hasil tanpa perubahan\n",
    "            result += char\n",
    "    return result\n",
    "\n",
    "# Teks yang akan dienkripsi\n",
    "plaintext = \"Jeni Fla Nurhidayah\"\n",
    "# Kunci enkripsi (a, b) dengan a=3 dan b=7\n",
    "key = (3, 7)\n",
    "\n",
    "# Enkripsi teks\n",
    "enkripsi_text = enkripsi(plaintext, key)\n",
    "print(\"Plaintext:\", plaintext)\n",
    "print(\"Ciphertext:\", enkripsi_text)\n",
    "\n",
    "# Dekripsi teks\n",
    "dekripsi_text = dekripsi(enkripsi_text, key)\n",
    "print(\"Decrypted Text:\", dekripsi_text)\n"
   ]
  },
  {
   "cell_type": "code",
   "execution_count": null,
   "id": "66143ed4-3894-46e9-9860-dba8c71f85fe",
   "metadata": {},
   "outputs": [],
   "source": []
  }
 ],
 "metadata": {
  "kernelspec": {
   "display_name": "Python 3 (ipykernel)",
   "language": "python",
   "name": "python3"
  },
  "language_info": {
   "codemirror_mode": {
    "name": "ipython",
    "version": 3
   },
   "file_extension": ".py",
   "mimetype": "text/x-python",
   "name": "python",
   "nbconvert_exporter": "python",
   "pygments_lexer": "ipython3",
   "version": "3.11.4"
  }
 },
 "nbformat": 4,
 "nbformat_minor": 5
}
